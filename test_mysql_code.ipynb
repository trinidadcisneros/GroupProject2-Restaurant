{
 "cells": [
  {
   "cell_type": "code",
   "execution_count": 1,
   "metadata": {},
   "outputs": [
    {
     "name": "stdout",
     "output_type": "stream",
     "text": [
      "<mysql.connector.connection.MySQLConnection object at 0x10484d780>\n"
     ]
    }
   ],
   "source": [
    "## Connecting to the database\n",
    "import mysql.connector as mysql\n",
    "\n",
    "## importing 'mysql.connector' as mysql for convenient\n",
    "\n",
    "## connecting to the database using 'connect()' method\n",
    "## it takes 3 required parameters 'host', 'user', 'passwd'\n",
    "db = mysql.connect(\n",
    "    host = \"127.0.0.1\",\n",
    "    user = \"root\",\n",
    "    passwd = \"root\"\n",
    ")\n",
    "\n",
    "\n",
    "print(db) # it will print a connection object if everything is fine"
   ]
  },
  {
   "cell_type": "code",
   "execution_count": 2,
   "metadata": {},
   "outputs": [
    {
     "name": "stdout",
     "output_type": "stream",
     "text": [
      "None\n",
      "[('information_schema',), ('190314-Examples',), ('RestaurantData',), ('SharkSearch',), ('bigfoot',), ('customer_db',), ('icecream_db',), ('mysql',), ('performance_schema',), ('sys',), ('tech_occupational_db',)]\n"
     ]
    }
   ],
   "source": [
    "## creating an instance of 'cursor' class which is used to execute the 'SQL' statements in 'Python'\n",
    "cursor = db.cursor()\n",
    "\n",
    "## creating a databse called 'datacamp'\n",
    "## 'execute()' method is used to compile a 'SQL' statement\n",
    "## below statement is used to create tha 'datacamp' database\n",
    "cursor.execute(\"CREATE DATABASE IF NOT EXISTS RestaurantData\")\n",
    "cursor.execute(\"USE RestaurantData\")\n",
    "print(cursor.execute(\"SHOW DATABASES\"))\n",
    "databases = cursor.fetchall()\n",
    "print(databases)\n",
    "\n",
    "\n",
    "cursor.execute(\"CREATE TABLE IF NOT EXISTS restaurants (name VARCHAR(255), user_name VARCHAR(255))\")\n",
    "cursor.execute(\"CREATE TABLE IF NOT EXISTS restaurants (id INT(11) NOT NULL AUTO_INCREMENT PRIMARY KEY, name VARCHAR(255), lat DECIMAL(6,3), lng DECIMAL(6,3), cuisine VARCHAR(255), ave_cost INT(2), rating DECIMAL(4,2) vote INT(5), price_range INT(2), featured_image VARCHAR(255), menu VARCHAR(255)\n",
    ")\")"
   ]
  },
  {
   "cell_type": "code",
   "execution_count": null,
   "metadata": {},
   "outputs": [],
   "source": [
    "## getting all the tables which are present in 'datacamp' database\n",
    "cursor.execute(\"SHOW TABLES\")\n",
    "\n",
    "tables = cursor.fetchall() ## it returns list of tables present in the database\n",
    "\n",
    "## showing all the tables one by one\n",
    "for table in tables:\n",
    "    print(table)"
   ]
  },
  {
   "cell_type": "code",
   "execution_count": null,
   "metadata": {},
   "outputs": [],
   "source": []
  }
 ],
 "metadata": {
  "kernelspec": {
   "display_name": "Python 3",
   "language": "python",
   "name": "python3"
  },
  "language_info": {
   "codemirror_mode": {
    "name": "ipython",
    "version": 3
   },
   "file_extension": ".py",
   "mimetype": "text/x-python",
   "name": "python",
   "nbconvert_exporter": "python",
   "pygments_lexer": "ipython3",
   "version": "3.6.7"
  }
 },
 "nbformat": 4,
 "nbformat_minor": 2
}
