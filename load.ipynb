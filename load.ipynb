{
 "cells": [
  {
   "cell_type": "code",
   "execution_count": 1,
   "metadata": {},
   "outputs": [],
   "source": [
    "# Import SQL Alchemy\n",
    "from sqlalchemy import create_engine, Column, Integer, String, Float\n",
    "# Import and establish Base for which classes will be constructed \n",
    "from sqlalchemy.ext.declarative import declarative_base\n",
    "\n",
    "import pandas as pd\n",
    "\n",
    "# Import PyMySQL (Not needed if mysqlclient is installed)\n",
    "import pymysql\n",
    "pymysql.install_as_MySQLdb()"
   ]
  },
  {
   "cell_type": "code",
   "execution_count": 2,
   "metadata": {},
   "outputs": [],
   "source": [
    "Base = declarative_base()"
   ]
  },
  {
   "cell_type": "code",
   "execution_count": 3,
   "metadata": {},
   "outputs": [],
   "source": [
    "# Create restaurant class\n",
    "# ----------------------------------\n",
    "class RestaurantData(Base):\n",
    "    __tablename__ = 'restaurants'\n",
    "    id = Column(Integer, primary_key=True)\n",
    "    name = Column(String(255))\n",
    "    lat = Column(Float(5))\n",
    "    lng = Column(Float(5))\n",
    "    cuisines = Column(String(255))\n",
    "    ave_cost = Column(Float(2))\n",
    "    rating = Column(Integer)\n",
    "    vote = Column(Integer)\n",
    "    price_range = Column(Integer)\n",
    "    featured_image = Column(String(255))\n",
    "    menu = Column(String(255))"
   ]
  },
  {
   "cell_type": "code",
   "execution_count": 4,
   "metadata": {},
   "outputs": [],
   "source": [
    "# Create Database Connection\n",
    "# ----------------------------------\n",
    "# Establish Connection to MySQL\n",
    "engine = create_engine(\"sqlite:///RestaurantData.sqlite\")\n",
    "conn = engine.connect()"
   ]
  },
  {
   "cell_type": "code",
   "execution_count": 5,
   "metadata": {},
   "outputs": [],
   "source": [
    "# Create tables withint database\n",
    "Base.metadata.create_all(conn)"
   ]
  },
  {
   "cell_type": "code",
   "execution_count": 6,
   "metadata": {},
   "outputs": [],
   "source": [
    "# Create both the Surfer and Board tables within the database\n",
    "Base.metadata.create_all(conn)"
   ]
  },
  {
   "cell_type": "code",
   "execution_count": 7,
   "metadata": {},
   "outputs": [],
   "source": [
    "# To push the objects made and query the server we use a Session object\n",
    "from sqlalchemy.orm import Session\n",
    "session = Session(bind=engine)"
   ]
  },
  {
   "cell_type": "code",
   "execution_count": 8,
   "metadata": {},
   "outputs": [],
   "source": [
    "password = \"root\"\n",
    "username = \"root\"\n",
    "host = \"127.0.0.1\""
   ]
  },
  {
   "cell_type": "code",
   "execution_count": 9,
   "metadata": {},
   "outputs": [
    {
     "ename": "NameError",
     "evalue": "name 'new_restaurant_data_df' is not defined",
     "output_type": "error",
     "traceback": [
      "\u001b[0;31m---------------------------------------------------------------------------\u001b[0m",
      "\u001b[0;31mNameError\u001b[0m                                 Traceback (most recent call last)",
      "\u001b[0;32m<ipython-input-9-79cf1d5394ce>\u001b[0m in \u001b[0;36m<module>\u001b[0;34m\u001b[0m\n\u001b[1;32m      2\u001b[0m \u001b[0mrds_connection_string\u001b[0m \u001b[0;34m=\u001b[0m \u001b[0;34m\"{username}:{password}@{host}/RestaurantData\"\u001b[0m\u001b[0;34m\u001b[0m\u001b[0;34m\u001b[0m\u001b[0m\n\u001b[1;32m      3\u001b[0m \u001b[0mengine\u001b[0m \u001b[0;34m=\u001b[0m \u001b[0mcreate_engine\u001b[0m\u001b[0;34m(\u001b[0m\u001b[0;34mf'mysql+pymysql://{rds_connection_string}'\u001b[0m\u001b[0;34m)\u001b[0m\u001b[0;34m\u001b[0m\u001b[0;34m\u001b[0m\u001b[0m\n\u001b[0;32m----> 4\u001b[0;31m \u001b[0mnew_restaurant_data_df\u001b[0m\u001b[0;34m.\u001b[0m\u001b[0mto_sql\u001b[0m\u001b[0;34m(\u001b[0m\u001b[0mname\u001b[0m\u001b[0;34m=\u001b[0m\u001b[0;34m'RestaurantData'\u001b[0m\u001b[0;34m,\u001b[0m \u001b[0mcon\u001b[0m\u001b[0;34m=\u001b[0m\u001b[0mengine\u001b[0m\u001b[0;34m,\u001b[0m \u001b[0mif_exists\u001b[0m\u001b[0;34m=\u001b[0m\u001b[0;34m'append'\u001b[0m\u001b[0;34m,\u001b[0m \u001b[0mindex\u001b[0m\u001b[0;34m=\u001b[0m\u001b[0;32mFalse\u001b[0m\u001b[0;34m)\u001b[0m\u001b[0;34m\u001b[0m\u001b[0;34m\u001b[0m\u001b[0m\n\u001b[0m\u001b[1;32m      5\u001b[0m \u001b[0mpd\u001b[0m\u001b[0;34m.\u001b[0m\u001b[0mread_sql_query\u001b[0m\u001b[0;34m(\u001b[0m\u001b[0;34m'select * from restaurant_data'\u001b[0m\u001b[0;34m,\u001b[0m \u001b[0mcon\u001b[0m\u001b[0;34m=\u001b[0m\u001b[0mengine\u001b[0m\u001b[0;34m)\u001b[0m\u001b[0;34m.\u001b[0m\u001b[0mhead\u001b[0m\u001b[0;34m(\u001b[0m\u001b[0;34m)\u001b[0m\u001b[0;34m\u001b[0m\u001b[0;34m\u001b[0m\u001b[0m\n",
      "\u001b[0;31mNameError\u001b[0m: name 'new_restaurant_data_df' is not defined"
     ]
    }
   ],
   "source": [
    "engine.table_names()\n",
    "rds_connection_string = \"{username}:{password}@{host}/RestaurantData\"\n",
    "engine = create_engine(f'mysql+pymysql://{rds_connection_string}')\n",
    "new_restaurant_data_df.to_sql(name='RestaurantData', con=engine, if_exists='append', index=False)\n",
    "pd.read_sql_query('select * from restaurant_data', con=engine).head()"
   ]
  },
  {
   "cell_type": "markdown",
   "metadata": {},
   "source": [
    "Columns\n",
    "name = response[\"restaurants\"][0][\"restaurant\"][\"name\"]\n",
    "lat = response[\"restaurants\"][0][\"restaurant\"][\"location\"][\"latitude\"]\n",
    "long= response[\"restaurants\"][0][\"restaurant\"][\"location\"][\"longitude\"]\n",
    "cuisines = response[\"restaurants\"][0][\"restaurant\"][\"cuisines\"]\n",
    "ave_cost = response[\"restaurants\"][0][\"restaurant\"][\"average_cost_for_two\"]\n",
    "rating = response[\"restaurants\"][0][\"restaurant\"][\"user_rating\"][\"aggregate_rating\"]\n",
    "vote = response[\"restaurants\"][0][\"restaurant\"][\"user_rating\"][\"votes\"]\n",
    "currency = response[\"restaurants\"][0][\"restaurant\"][\"currency\"]\n",
    "featured_image = response[\"restaurants\"][0][\"restaurant\"][\"featured_image\"]\n",
    "menu = response[\"restaurants\"][0][\"restaurant\"][\"menu_url\"]\n",
    "\n",
    "class RestaurantData(Base):\n",
    "    __tablename__ = 'restaurants'\n",
    "    id = Column(Integer, primary_key=True)\n",
    "    name = Column(String(255))\n",
    "    lat = Column(Float(5))\n",
    "    lng = Column(Float(5))\n",
    "    cuisine = Column(String(255))\n",
    "    ave_cost = Column(Float(2))\n",
    "    rating = Column(Integer)\n",
    "    vote = Column(Integer)\n",
    "    currency = Column(Integer)\n",
    "    featured_image = Column(String(255))\n",
    "    menu = Column(String(255))"
   ]
  },
  {
   "cell_type": "code",
   "execution_count": null,
   "metadata": {},
   "outputs": [],
   "source": [
    "# Query the database and collect all of the surfers in the Surfer table\n",
    "instance_list = session.query(RestaurantData)\n",
    "for instance in instance_list:\n",
    "    print(instance.name)\n",
    "    print(instance.lat)\n",
    "    print(instance.lng)\n",
    "    print(instance.ave_cost)\n",
    "    print(instance.rating)\n",
    "    print(instance.vote)\n",
    "    print(instance.price_range)\n",
    "    print(instance.featured_image)\n",
    "    print(instance.menu)"
   ]
  },
  {
   "cell_type": "code",
   "execution_count": null,
   "metadata": {},
   "outputs": [],
   "source": []
  }
 ],
 "metadata": {
  "kernelspec": {
   "display_name": "Python 3",
   "language": "python",
   "name": "python3"
  },
  "language_info": {
   "codemirror_mode": {
    "name": "ipython",
    "version": 3
   },
   "file_extension": ".py",
   "mimetype": "text/x-python",
   "name": "python",
   "nbconvert_exporter": "python",
   "pygments_lexer": "ipython3",
   "version": "3.6.7"
  }
 },
 "nbformat": 4,
 "nbformat_minor": 2
}
