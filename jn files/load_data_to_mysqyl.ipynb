{
 "cells": [
  {
   "cell_type": "code",
   "execution_count": 1,
   "metadata": {},
   "outputs": [
    {
     "name": "stdout",
     "output_type": "stream",
     "text": [
      "<mysql.connector.connection.MySQLConnection object at 0x106de7b38>\n"
     ]
    }
   ],
   "source": [
    "## Connecting to the database\n",
    "import mysql.connector as mysql\n",
    "%store -r restaurant_dict\n",
    "%store -r cuisines_dict\n",
    "\n",
    "## importing 'mysql.connector' as mysql for convenient\n",
    "\n",
    "## connecting to the database using 'connect()' method\n",
    "## it takes 3 required parameters 'host', 'user', 'passwd'\n",
    "db = mysql.connect(\n",
    "    host = \"127.0.0.1\",\n",
    "    user = \"root\",\n",
    "    passwd = \"root\"\n",
    ")\n",
    "\n",
    "print(db) # it will print a connection object if everything is fine"
   ]
  },
  {
   "cell_type": "code",
   "execution_count": 2,
   "metadata": {},
   "outputs": [
    {
     "name": "stdout",
     "output_type": "stream",
     "text": [
      "None\n",
      "[('information_schema',), ('Sakila',), ('SharkSearch',), ('customer_db',), ('mysql',), ('performance_schema',), ('restaurantdata',), ('sys',)]\n"
     ]
    }
   ],
   "source": [
    "## creating an instance of 'cursor' class which is used to execute the 'SQL' statements in 'Python'\n",
    "cursor = db.cursor()\n",
    "\n",
    "## creating a databse called 'datacamp'\n",
    "## 'execute()' method is used to compile a 'SQL' statement\n",
    "## below statement is used to create tha 'datacamp' database\n",
    "cursor.execute(\"CREATE DATABASE IF NOT EXISTS restaurantdata\")\n",
    "cursor.execute(\"USE restaurantdata\")\n",
    "print(cursor.execute(\"SHOW DATABASES\"))\n",
    "databases = cursor.fetchall()\n",
    "print(databases)"
   ]
  },
  {
   "cell_type": "markdown",
   "metadata": {},
   "source": [
    "# Cuisine Table"
   ]
  },
  {
   "cell_type": "code",
   "execution_count": 3,
   "metadata": {},
   "outputs": [
    {
     "name": "stdout",
     "output_type": "stream",
     "text": [
      "[('id', 'int(11)', 'NO', 'PRI', None, 'auto_increment'), ('cuisine_id', 'int(11)', 'YES', 'UNI', None, ''), ('cuisine_category', 'varchar(255)', 'YES', '', None, '')]\n"
     ]
    }
   ],
   "source": [
    "# Create cuisine category\n",
    "cursor.execute(\"DROP TABLE IF EXISTS cuisines\")\n",
    "cursor.execute(\"CREATE TABLE IF NOT EXISTS cuisines (id INT(11) NOT NULL AUTO_INCREMENT PRIMARY KEY, cuisine_id INT(11), cuisine_category VARCHAR(255),UNIQUE KEY `cuisine_id` (`cuisine_id`))ENGINE=InnoDB\")\n",
    "cursor.execute(\"DESC cuisines\")\n",
    "print(cursor.fetchall())"
   ]
  },
  {
   "cell_type": "markdown",
   "metadata": {},
   "source": [
    "# Restaurant Table"
   ]
  },
  {
   "cell_type": "code",
   "execution_count": 4,
   "metadata": {},
   "outputs": [
    {
     "name": "stdout",
     "output_type": "stream",
     "text": [
      "[('id', 'int(11)', 'NO', 'PRI', None, 'auto_increment'), ('res_id', 'int(20)', 'YES', 'UNI', None, ''), ('name', 'varchar(255)', 'YES', '', None, ''), ('cuisines', 'varchar(255)', 'YES', '', None, ''), ('cuisine_category', 'varchar(255)', 'YES', '', None, '')]\n"
     ]
    }
   ],
   "source": [
    "# Create restaurant table\n",
    "cursor.execute(\"DROP TABLE IF EXISTS restaurants\")\n",
    "cursor.execute(\"CREATE TABLE IF NOT EXISTS restaurants (id INT(11) NOT NULL AUTO_INCREMENT PRIMARY KEY, res_id INT(20), `name` VARCHAR(255), cuisines VARCHAR(255), cuisine_category VARCHAR(255), UNIQUE KEY `restaurants` (`res_id`)) ENGINE=InnoDB\")\n",
    "cursor.execute(\"DESC restaurants\")\n",
    "print(cursor.fetchall())\n"
   ]
  },
  {
   "cell_type": "markdown",
   "metadata": {},
   "source": [
    "# Location Table"
   ]
  },
  {
   "cell_type": "code",
   "execution_count": 5,
   "metadata": {},
   "outputs": [
    {
     "name": "stdout",
     "output_type": "stream",
     "text": [
      "[('id', 'int(11)', 'NO', 'PRI', None, 'auto_increment'), ('name', 'varchar(255)', 'YES', '', None, ''), ('lat', 'decimal(6,3)', 'YES', '', None, ''), ('lng', 'decimal(6,3)', 'YES', '', None, '')]\n"
     ]
    }
   ],
   "source": [
    "# Create location table\n",
    "cursor.execute(\"DROP TABLE IF EXISTS location\")\n",
    "cursor.execute(\"CREATE TABLE IF NOT EXISTS location (id INT(11) NOT NULL AUTO_INCREMENT PRIMARY KEY, `name` VARCHAR(255), lat DECIMAL(6,3), lng DECIMAL (6,3)) ENGINE=InnoDB\")\n",
    "cursor.execute(\"DESC location\")\n",
    "print(cursor.fetchall())\n"
   ]
  },
  {
   "cell_type": "markdown",
   "metadata": {},
   "source": [
    "#  Price Table"
   ]
  },
  {
   "cell_type": "code",
   "execution_count": 6,
   "metadata": {},
   "outputs": [
    {
     "name": "stdout",
     "output_type": "stream",
     "text": [
      "[('id', 'int(11)', 'NO', 'PRI', None, 'auto_increment'), ('name', 'varchar(255)', 'YES', '', None, ''), ('price_range', 'int(2)', 'YES', '', None, ''), ('ave_cost', 'decimal(6,2)', 'YES', '', None, '')]\n"
     ]
    }
   ],
   "source": [
    "# Create price table\n",
    "cursor.execute(\"DROP TABLE IF EXISTS price\")\n",
    "cursor.execute(\"CREATE TABLE IF NOT EXISTS price (id INT(11) NOT NULL AUTO_INCREMENT PRIMARY KEY, `name` VARCHAR(255), price_range INT(2), ave_cost DECIMAL(6,2)) ENGINE=InnoDB\")\n",
    "cursor.execute(\"DESC price\")\n",
    "print(cursor.fetchall())\n"
   ]
  },
  {
   "cell_type": "markdown",
   "metadata": {},
   "source": [
    "# Media Table"
   ]
  },
  {
   "cell_type": "code",
   "execution_count": 7,
   "metadata": {},
   "outputs": [
    {
     "name": "stdout",
     "output_type": "stream",
     "text": [
      "[('id', 'int(11)', 'NO', 'PRI', None, 'auto_increment'), ('name', 'varchar(255)', 'YES', '', None, ''), ('menu', 'varchar(255)', 'YES', '', None, ''), ('featured_image', 'varchar(255)', 'YES', '', None, '')]\n"
     ]
    }
   ],
   "source": [
    "# Create media table\n",
    "cursor.execute(\"DROP TABLE IF EXISTS media\")\n",
    "cursor.execute(\"CREATE TABLE IF NOT EXISTS media (id INT(11) NOT NULL AUTO_INCREMENT PRIMARY KEY, `name` VARCHAR(255), menu VARCHAR(255), featured_image VARCHAR(255)) ENGINE=InnoDB\")\n",
    "cursor.execute(\"DESC media\")\n",
    "print(cursor.fetchall())\n"
   ]
  },
  {
   "cell_type": "markdown",
   "metadata": {},
   "source": [
    "# Review Table"
   ]
  },
  {
   "cell_type": "code",
   "execution_count": 8,
   "metadata": {},
   "outputs": [
    {
     "name": "stdout",
     "output_type": "stream",
     "text": [
      "[('id', 'int(11)', 'NO', 'PRI', None, 'auto_increment'), ('name', 'varchar(255)', 'YES', '', None, ''), ('vote', 'decimal(6,2)', 'YES', '', None, ''), ('rating', 'decimal(6,2)', 'YES', '', None, '')]\n"
     ]
    }
   ],
   "source": [
    "# Create reviews table\n",
    "cursor.execute(\"DROP TABLE IF EXISTS reviews\")\n",
    "cursor.execute(\"CREATE TABLE IF NOT EXISTS reviews (id INT(11) NOT NULL AUTO_INCREMENT PRIMARY KEY, `name` VARCHAR(255), vote DECIMAL(6,2), rating DECIMAL(6,2)) ENGINE=InnoDB\")\n",
    "cursor.execute(\"DESC reviews\")\n",
    "print(cursor.fetchall())\n"
   ]
  },
  {
   "cell_type": "code",
   "execution_count": 9,
   "metadata": {},
   "outputs": [
    {
     "name": "stdout",
     "output_type": "stream",
     "text": [
      "('cuisines',)\n",
      "('location',)\n",
      "('media',)\n",
      "('price',)\n",
      "('restaurants',)\n",
      "('reviews',)\n"
     ]
    }
   ],
   "source": [
    "## getting all the tables which are present in 'datacamp' database\n",
    "cursor.execute(\"SHOW TABLES\")\n",
    "\n",
    "tables = cursor.fetchall() ## it returns list of tables present in the database\n",
    "\n",
    "## showing all the tables one by one\n",
    "for table in tables:\n",
    "    print(table)"
   ]
  },
  {
   "cell_type": "markdown",
   "metadata": {},
   "source": [
    "# Load Data into MySqyl"
   ]
  },
  {
   "cell_type": "markdown",
   "metadata": {},
   "source": [
    "## Load Cuisine Table"
   ]
  },
  {
   "cell_type": "code",
   "execution_count": 10,
   "metadata": {},
   "outputs": [],
   "source": [
    "cuisine_values = []\n",
    "def c_listify(v):\n",
    "    return v[\"cuisine_id\"], v[\"cuisine_category\"] \n",
    "\n",
    "for v in cuisines_dict:\n",
    "    entry_tuple = c_listify(v)\n",
    "    cuisine_values.append(entry_tuple) "
   ]
  },
  {
   "cell_type": "code",
   "execution_count": 11,
   "metadata": {},
   "outputs": [
    {
     "name": "stdout",
     "output_type": "stream",
     "text": [
      "108 records inserted\n"
     ]
    }
   ],
   "source": [
    "## defining the Query\n",
    "query = \"INSERT INTO cuisines (cuisine_id, cuisine_category) VALUES (%s, %s)\"\n",
    "\n",
    "## storing values in a variable\n",
    "values = cuisine_values\n",
    "\n",
    "## executing the query with values\n",
    "cursor.executemany(query, values)\n",
    "\n",
    "## to make final output we have to run the 'commit()' method of the database object\n",
    "db.commit()\n",
    "print(cursor.rowcount, \"records inserted\")"
   ]
  },
  {
   "cell_type": "markdown",
   "metadata": {},
   "source": [
    "## Load Restaurant Data"
   ]
  },
  {
   "cell_type": "code",
   "execution_count": 12,
   "metadata": {},
   "outputs": [],
   "source": [
    "restaurant_values = []\n",
    "def r_listify(v):\n",
    "    return v[\"res_id\"], v[\"name\"], v[\"cuisines\"], v[\"cuisine_category\"]\n",
    "\n",
    "for v in restaurant_dict:\n",
    "    entry_tuple = r_listify(v)\n",
    "    cuisine_values.append(entry_tuple) "
   ]
  },
  {
   "cell_type": "code",
   "execution_count": 13,
   "metadata": {},
   "outputs": [
    {
     "name": "stdout",
     "output_type": "stream",
     "text": [
      "108 records inserted\n"
     ]
    }
   ],
   "source": [
    "## defining the Query\n",
    "query = \"INSERT INTO restaurants (res_id, name, cuisines, cuisine_category) VALUES (%s, %s, %s, %s)\"\n",
    "\n",
    "## storing values in a variable\n",
    "values = restaurant_values\n",
    "\n",
    "## executing the query with values\n",
    "cursor.executemany(query, values)\n",
    "\n",
    "## to make final output we have to run the 'commit()' method of the database object\n",
    "db.commit()\n",
    "print(cursor.rowcount, \"records inserted\")"
   ]
  },
  {
   "cell_type": "markdown",
   "metadata": {},
   "source": [
    "## Load Location Data"
   ]
  },
  {
   "cell_type": "code",
   "execution_count": 14,
   "metadata": {},
   "outputs": [],
   "source": [
    "location_values = []\n",
    "def l_listify(v):\n",
    "    return v[\"name\"], v[\"lat\"], v[\"lng\"]\n",
    "\n",
    "for v in restaurant_dict:\n",
    "    entry_tuple = l_listify(v)\n",
    "    location_values.append(entry_tuple) "
   ]
  },
  {
   "cell_type": "code",
   "execution_count": 15,
   "metadata": {},
   "outputs": [
    {
     "name": "stdout",
     "output_type": "stream",
     "text": [
      "20 records inserted\n"
     ]
    }
   ],
   "source": [
    "## defining the Query\n",
    "query = \"INSERT INTO location (name, lat, lng) VALUES (%s, %s, %s)\"\n",
    "\n",
    "## storing values in a variable\n",
    "values = location_values\n",
    "\n",
    "## executing the query with values\n",
    "cursor.executemany(query, values)\n",
    "\n",
    "## to make final output we have to run the 'commit()' method of the database object\n",
    "db.commit()\n",
    "print(cursor.rowcount, \"records inserted\")"
   ]
  },
  {
   "cell_type": "markdown",
   "metadata": {},
   "source": [
    "## Load Price Data"
   ]
  },
  {
   "cell_type": "code",
   "execution_count": 16,
   "metadata": {},
   "outputs": [],
   "source": [
    "price_values = []\n",
    "def p_listify(v):\n",
    "    return v[\"name\"], v[\"price_range\"], v[\"ave_cost\"]\n",
    "\n",
    "for v in restaurant_dict:\n",
    "    entry_tuple = p_listify(v)\n",
    "    price_values.append(entry_tuple) "
   ]
  },
  {
   "cell_type": "code",
   "execution_count": 17,
   "metadata": {},
   "outputs": [
    {
     "name": "stdout",
     "output_type": "stream",
     "text": [
      "20 records inserted\n"
     ]
    }
   ],
   "source": [
    "## defining the Query\n",
    "query = \"INSERT INTO price (name, price_range, ave_cost) VALUES (%s, %s, %s)\"\n",
    "\n",
    "## storing values in a variable\n",
    "values = price_values\n",
    "\n",
    "## executing the query with values\n",
    "cursor.executemany(query, values)\n",
    "\n",
    "## to make final output we have to run the 'commit()' method of the database object\n",
    "db.commit()\n",
    "print(cursor.rowcount, \"records inserted\")"
   ]
  },
  {
   "cell_type": "markdown",
   "metadata": {},
   "source": [
    "## Load Media Data"
   ]
  },
  {
   "cell_type": "code",
   "execution_count": 18,
   "metadata": {},
   "outputs": [],
   "source": [
    "media_values = []\n",
    "def m_listify(v):\n",
    "    return v[\"name\"], v[\"menu\"], v[\"featured_image\"]\n",
    "\n",
    "for v in restaurant_dict:\n",
    "    entry_tuple = m_listify(v)\n",
    "    media_values.append(entry_tuple)"
   ]
  },
  {
   "cell_type": "code",
   "execution_count": 19,
   "metadata": {},
   "outputs": [
    {
     "name": "stdout",
     "output_type": "stream",
     "text": [
      "20 records inserted\n"
     ]
    }
   ],
   "source": [
    "## defining the Query\n",
    "query = \"INSERT INTO media (name, menu, featured_image) VALUES (%s, %s, %s)\"\n",
    "\n",
    "## storing values in a variable\n",
    "values = media_values\n",
    "\n",
    "## executing the query with values\n",
    "cursor.executemany(query, values)\n",
    "\n",
    "## to make final output we have to run the 'commit()' method of the database object\n",
    "db.commit()\n",
    "print(cursor.rowcount, \"records inserted\")"
   ]
  },
  {
   "cell_type": "markdown",
   "metadata": {},
   "source": [
    "## Load Review Data"
   ]
  },
  {
   "cell_type": "code",
   "execution_count": 20,
   "metadata": {},
   "outputs": [],
   "source": [
    "reviews_values = []\n",
    "def r_listify(v):\n",
    "    return v[\"name\"], v[\"vote\"], v[\"rating\"]\n",
    "\n",
    "for v in restaurant_dict:\n",
    "    entry_tuple = r_listify(v)\n",
    "    reviews_values.append(entry_tuple)"
   ]
  },
  {
   "cell_type": "code",
   "execution_count": 21,
   "metadata": {},
   "outputs": [
    {
     "name": "stdout",
     "output_type": "stream",
     "text": [
      "20 records inserted\n"
     ]
    }
   ],
   "source": [
    "## defining the Query\n",
    "query = \"INSERT INTO reviews (name, vote, rating) VALUES (%s, %s, %s)\"\n",
    "\n",
    "## storing values in a variable\n",
    "values = reviews_values\n",
    "\n",
    "## executing the query with values\n",
    "cursor.executemany(query, values)\n",
    "\n",
    "## to make final output we have to run the 'commit()' method of the database object\n",
    "db.commit()\n",
    "print(cursor.rowcount, \"records inserted\")"
   ]
  },
  {
   "cell_type": "code",
   "execution_count": 29,
   "metadata": {},
   "outputs": [
    {
     "name": "stdout",
     "output_type": "stream",
     "text": [
      "('Philippe, The Original',)\n",
      "('Bottega Louie',)\n",
      "('Pizzeria Mozza',)\n",
      "('The Griddle Cafe',)\n",
      "('Diddy Riese Cookies',)\n",
      "('Wurstküche',)\n",
      "('Gjelina',)\n",
      "(\"Roscoe's House of Chicken & Waffles\",)\n",
      "('The Bazaar by Jose Andres',)\n",
      "('Animal',)\n",
      "('Bossa Nova Brazilian Cuisine',)\n",
      "('Osteria Mozza',)\n",
      "('The Ivy',)\n",
      "('Canters',)\n",
      "(\"Father's Office\",)\n",
      "('Providence',)\n",
      "('In-N-Out Burger',)\n",
      "('Alcove Cafe & Bakery',)\n",
      "('The Apple Pan',)\n",
      "('Daikokuya',)\n"
     ]
    }
   ],
   "source": [
    "## defining the Query\n",
    "query = \"SELECT name FROM location\"\n",
    "\n",
    "## getting records from the table\n",
    "cursor.execute(query)\n",
    "\n",
    "## fetching all records from the 'cursor' object\n",
    "records = cursor.fetchall()\n",
    "\n",
    "## Showing the data\n",
    "for record in records:\n",
    "    print(record)"
   ]
  },
  {
   "cell_type": "code",
   "execution_count": null,
   "metadata": {},
   "outputs": [],
   "source": []
  }
 ],
 "metadata": {
  "kernelspec": {
   "display_name": "Python 3",
   "language": "python",
   "name": "python3"
  },
  "language_info": {
   "codemirror_mode": {
    "name": "ipython",
    "version": 3
   },
   "file_extension": ".py",
   "mimetype": "text/x-python",
   "name": "python",
   "nbconvert_exporter": "python",
   "pygments_lexer": "ipython3",
   "version": "3.6.7"
  }
 },
 "nbformat": 4,
 "nbformat_minor": 2
}
