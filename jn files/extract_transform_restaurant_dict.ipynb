{
 "cells": [
  {
   "cell_type": "code",
   "execution_count": 1,
   "metadata": {},
   "outputs": [],
   "source": [
    "# Import dependencies\n",
    "import requests\n",
    "import json"
   ]
  },
  {
   "cell_type": "code",
   "execution_count": 2,
   "metadata": {},
   "outputs": [],
   "source": [
    "# URL to get request\n",
    "url = \"https://developers.zomato.com/api/v2.1/search?entity_id=281&entity_type=city&start=1&count=100\"\n",
    "headers = {'user-key': \"56f8a64be7b09ee8c81a59edfd692b34\", \"accept\": \"application/json\"}"
   ]
  },
  {
   "cell_type": "code",
   "execution_count": 3,
   "metadata": {},
   "outputs": [
    {
     "name": "stdout",
     "output_type": "stream",
     "text": [
      "<Response [200]>\n"
     ]
    }
   ],
   "source": [
    "# Jupyter Only, test connection\n",
    "# Print the response object to the console\n",
    "print(requests.get(url, headers=headers))"
   ]
  },
  {
   "cell_type": "code",
   "execution_count": 4,
   "metadata": {},
   "outputs": [],
   "source": [
    "# Response\n",
    "response = requests.get(url, headers=headers).json()"
   ]
  },
  {
   "cell_type": "code",
   "execution_count": 5,
   "metadata": {},
   "outputs": [],
   "source": [
    "with open('restaurant.json', 'w') as json_file:  \n",
    "    json.dump(response, json_file)"
   ]
  },
  {
   "cell_type": "code",
   "execution_count": 6,
   "metadata": {},
   "outputs": [],
   "source": [
    "with open('restaurant.json', 'r') as JSON:\n",
    "       dict = json.load(JSON)"
   ]
  },
  {
   "cell_type": "code",
   "execution_count": 8,
   "metadata": {},
   "outputs": [],
   "source": [
    "# loop through the json file and extract the data we need create a dictionary object\n",
    "#for i in dict:\n",
    "restaurant_dict = []\n",
    "restaurants = dict[\"restaurants\"]\n",
    "\n",
    "def create_dict(r):\n",
    "    return {\n",
    "    \"name\": r[\"restaurant\"][\"name\"],\n",
    "    \"res_id\": r[\"restaurant\"][\"R\"][\"res_id\"],\n",
    "    \"ave_cost\": r[\"restaurant\"][\"average_cost_for_two\"],\n",
    "    \"cuisines\": r[\"restaurant\"][\"cuisines\"],\n",
    "    \"price_range\": r[\"restaurant\"][\"price_range\"],\n",
    "    \"featured_image\": r[\"restaurant\"][\"featured_image\"],\n",
    "    \"menu\": r[\"restaurant\"][\"menu_url\"],\n",
    "    \"lat\": r[\"restaurant\"][\"location\"][\"latitude\"],\n",
    "    \"lng\": r[\"restaurant\"][\"location\"][\"longitude\"],\n",
    "    \"rating\": r[\"restaurant\"][\"user_rating\"][\"aggregate_rating\"],\n",
    "    \"vote\": r[\"restaurant\"][\"user_rating\"][\"votes\"]\n",
    "    }\n",
    "\n",
    "for r in restaurants:\n",
    "    transformed_dict = create_dict(r)\n",
    "    restaurant_dict.append(transformed_dict)\n"
   ]
  },
  {
   "cell_type": "code",
   "execution_count": 9,
   "metadata": {},
   "outputs": [],
   "source": [
    "# Add cuisine category key:value pair to each restaurant dictionary\n",
    "for i in restaurant_dict: \n",
    "    value = i[\"cuisines\"]\n",
    "    split_value = value.split()\n",
    "    first_value = split_value[0]\n",
    "    formated_value = first_value.replace(',', '')\n",
    "    i[\"cuisine_category\"] = formated_value"
   ]
  },
  {
   "cell_type": "code",
   "execution_count": 10,
   "metadata": {},
   "outputs": [
    {
     "name": "stdout",
     "output_type": "stream",
     "text": [
      "Stored 'restaurant_dict' (list)\n"
     ]
    }
   ],
   "source": [
    "%store restaurant_dict"
   ]
  }
 ],
 "metadata": {
  "kernelspec": {
   "display_name": "Python 3",
   "language": "python",
   "name": "python3"
  },
  "language_info": {
   "codemirror_mode": {
    "name": "ipython",
    "version": 3
   },
   "file_extension": ".py",
   "mimetype": "text/x-python",
   "name": "python",
   "nbconvert_exporter": "python",
   "pygments_lexer": "ipython3",
   "version": "3.6.7"
  }
 },
 "nbformat": 4,
 "nbformat_minor": 2
}
