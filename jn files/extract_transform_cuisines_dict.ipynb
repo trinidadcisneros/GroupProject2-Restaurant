{
 "cells": [
  {
   "cell_type": "code",
   "execution_count": 1,
   "metadata": {},
   "outputs": [],
   "source": [
    "# Import dependencies\n",
    "import requests\n",
    "import json"
   ]
  },
  {
   "cell_type": "code",
   "execution_count": 2,
   "metadata": {},
   "outputs": [],
   "source": [
    "# URL to get request\n",
    "c_url = \"https://developers.zomato.com/api/v2.1/cuisines?city_id=281&entity_type=city&start=1&count=100\"\n",
    "c_headers = {'user-key': \"56f8a64be7b09ee8c81a59edfd692b34\", \"accept\": \"application/json\"}"
   ]
  },
  {
   "cell_type": "code",
   "execution_count": 3,
   "metadata": {},
   "outputs": [
    {
     "name": "stdout",
     "output_type": "stream",
     "text": [
      "<Response [200]>\n"
     ]
    }
   ],
   "source": [
    "# Jupyter Only, test connection\n",
    "# Print the response object to the console\n",
    "print(requests.get(url, headers=headers))"
   ]
  },
  {
   "cell_type": "code",
   "execution_count": 4,
   "metadata": {},
   "outputs": [],
   "source": [
    "# Pretty print\n",
    "response = requests.get(url, headers=headers).json()"
   ]
  },
  {
   "cell_type": "code",
   "execution_count": 5,
   "metadata": {},
   "outputs": [],
   "source": [
    "with open('cuisines.json', 'w') as json_file:  \n",
    "    json.dump(response, json_file)"
   ]
  },
  {
   "cell_type": "code",
   "execution_count": 6,
   "metadata": {},
   "outputs": [],
   "source": [
    "with open('cuisines.json', 'r') as JSON:\n",
    "       dict = json.load(JSON)"
   ]
  },
  {
   "cell_type": "code",
   "execution_count": 9,
   "metadata": {},
   "outputs": [],
   "source": [
    "cuisines = dict[\"cuisines\"]"
   ]
  },
  {
   "cell_type": "code",
   "execution_count": 10,
   "metadata": {},
   "outputs": [],
   "source": [
    "# loop through the json file and extract the data we need create a dictionary object\n",
    "#for i in dict:\n",
    "cuisines_dict = []\n",
    "\n",
    "def transform(r):\n",
    "    return {\n",
    "    \"cuisine_id\": r[\"cuisine\"][\"cuisine_id\"],\n",
    "    \"cuisine_category\": r[\"cuisine\"][\"cuisine_name\"],\n",
    "    }\n",
    "\n",
    "for r in cuisines:\n",
    "    transformed_dict = transform(r)\n",
    "    cuisines_dict.append(transformed_dict)"
   ]
  },
  {
   "cell_type": "code",
   "execution_count": 13,
   "metadata": {},
   "outputs": [
    {
     "name": "stdout",
     "output_type": "stream",
     "text": [
      "Stored 'cuisines_dict' (list)\n"
     ]
    }
   ],
   "source": [
    "%store cuisines_dict"
   ]
  }
 ],
 "metadata": {
  "kernelspec": {
   "display_name": "Python 3",
   "language": "python",
   "name": "python3"
  },
  "language_info": {
   "codemirror_mode": {
    "name": "ipython",
    "version": 3
   },
   "file_extension": ".py",
   "mimetype": "text/x-python",
   "name": "python",
   "nbconvert_exporter": "python",
   "pygments_lexer": "ipython3",
   "version": "3.6.7"
  }
 },
 "nbformat": 4,
 "nbformat_minor": 2
}
