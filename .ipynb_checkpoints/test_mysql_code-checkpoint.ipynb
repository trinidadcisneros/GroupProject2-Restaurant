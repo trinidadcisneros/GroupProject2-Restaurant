{
 "cells": [
  {
   "cell_type": "code",
   "execution_count": 6,
   "metadata": {},
   "outputs": [
    {
     "ename": "ModuleNotFoundError",
     "evalue": "No module named 'extract_transform'",
     "output_type": "error",
     "traceback": [
      "\u001b[0;31m---------------------------------------------------------------------------\u001b[0m",
      "\u001b[0;31mModuleNotFoundError\u001b[0m                       Traceback (most recent call last)",
      "\u001b[0;32m<ipython-input-6-7bcc40dffea4>\u001b[0m in \u001b[0;36m<module>\u001b[0;34m\u001b[0m\n\u001b[1;32m      1\u001b[0m \u001b[0;31m## Connecting to the database\u001b[0m\u001b[0;34m\u001b[0m\u001b[0;34m\u001b[0m\u001b[0;34m\u001b[0m\u001b[0m\n\u001b[1;32m      2\u001b[0m \u001b[0;32mimport\u001b[0m \u001b[0mmysql\u001b[0m\u001b[0;34m.\u001b[0m\u001b[0mconnector\u001b[0m \u001b[0;32mas\u001b[0m \u001b[0mmysql\u001b[0m\u001b[0;34m\u001b[0m\u001b[0;34m\u001b[0m\u001b[0m\n\u001b[0;32m----> 3\u001b[0;31m \u001b[0;32mimport\u001b[0m \u001b[0mextract_transform\u001b[0m\u001b[0;34m\u001b[0m\u001b[0;34m\u001b[0m\u001b[0m\n\u001b[0m\u001b[1;32m      4\u001b[0m \u001b[0;34m\u001b[0m\u001b[0m\n\u001b[1;32m      5\u001b[0m \u001b[0;31m## importing 'mysql.connector' as mysql for convenient\u001b[0m\u001b[0;34m\u001b[0m\u001b[0;34m\u001b[0m\u001b[0;34m\u001b[0m\u001b[0m\n",
      "\u001b[0;31mModuleNotFoundError\u001b[0m: No module named 'extract_transform'"
     ]
    }
   ],
   "source": [
    "## Connecting to the database\n",
    "import mysql.connector as mysql\n",
    "from extract_transform import cleaned_dict\n",
    "\n",
    "## importing 'mysql.connector' as mysql for convenient\n",
    "\n",
    "## connecting to the database using 'connect()' method\n",
    "## it takes 3 required parameters 'host', 'user', 'passwd'\n",
    "db = mysql.connect(\n",
    "    host = \"127.0.0.1\",\n",
    "    user = \"root\",\n",
    "    passwd = \"root\"\n",
    ")\n",
    "\n",
    "\n",
    "print(db) # it will print a connection object if everything is fine"
   ]
  },
  {
   "cell_type": "markdown",
   "metadata": {},
   "source": [
    "CREATE TABLE IF NOT EXISTS restaurants (\n",
    "    id INT(11) NOT NULL AUTO_INCREMENT PRIMARY KEY,\n",
    "    name VARCHAR(255),\n",
    "    lat DECIMAL(6,3),\n",
    "    lng DECIMAL(6,3),\n",
    "    cuisine VARCHAR(255),\n",
    "    ave_cost INT(2),\n",
    "    rating DECIMAL(4,2)\n",
    "    vote INT(5),\n",
    "    price_range INT(2),\n",
    "    featured_image VARCHAR(255),\n",
    "    menu VARCHAR(255)\n",
    ");"
   ]
  },
  {
   "cell_type": "code",
   "execution_count": 3,
   "metadata": {},
   "outputs": [
    {
     "name": "stdout",
     "output_type": "stream",
     "text": [
      "None\n",
      "[('information_schema',), ('190314-Examples',), ('RestaurantData',), ('SharkSearch',), ('bigfoot',), ('customer_db',), ('icecream_db',), ('mysql',), ('performance_schema',), ('sys',), ('tech_occupational_db',)]\n",
      "[('id', 'int(11)', 'NO', 'PRI', None, 'auto_increment'), ('name', 'varchar(255)', 'YES', '', None, ''), ('lat', 'decimal(6,2)', 'YES', '', None, ''), ('lng', 'decimal(6,2)', 'YES', '', None, ''), ('cuisine', 'varchar(50)', 'YES', '', None, ''), ('ave_cost', 'decimal(6,2)', 'YES', '', None, ''), ('rating', 'decimal(6,2)', 'YES', '', None, ''), ('vote', 'decimal(6,2)', 'YES', '', None, ''), ('price_range', 'int(2)', 'YES', '', None, ''), ('featured_image', 'varchar(255)', 'YES', '', None, ''), ('menu', 'varchar(255)', 'YES', '', None, '')]\n"
     ]
    }
   ],
   "source": [
    "## creating an instance of 'cursor' class which is used to execute the 'SQL' statements in 'Python'\n",
    "cursor = db.cursor()\n",
    "\n",
    "## creating a databse called 'datacamp'\n",
    "## 'execute()' method is used to compile a 'SQL' statement\n",
    "## below statement is used to create tha 'datacamp' database\n",
    "cursor.execute(\"CREATE DATABASE IF NOT EXISTS RestaurantData\")\n",
    "cursor.execute(\"USE RestaurantData\")\n",
    "print(cursor.execute(\"SHOW DATABASES\"))\n",
    "databases = cursor.fetchall()\n",
    "print(databases)\n",
    "\n",
    "cursor.execute(\"DROP TABLE restaurants\")\n",
    "cursor.execute(\"CREATE TABLE IF NOT EXISTS restaurants (id INT(11) NOT NULL AUTO_INCREMENT PRIMARY KEY, name VARCHAR(255), lat DECIMAL(6,2), lng DECIMAL(6,2), cuisine VARCHAR(50), ave_cost DECIMAL(6,2), rating DECIMAL(6,2), vote DECIMAL(6,2), price_range INT(2), featured_image VARCHAR(255), menu VARCHAR(255))\")\n",
    "\n",
    "cursor.execute(\"DESC restaurants\")\n",
    "print(cursor.fetchall())\n"
   ]
  },
  {
   "cell_type": "code",
   "execution_count": 4,
   "metadata": {},
   "outputs": [
    {
     "name": "stdout",
     "output_type": "stream",
     "text": [
      "('restaurants',)\n"
     ]
    }
   ],
   "source": [
    "## getting all the tables which are present in 'datacamp' database\n",
    "cursor.execute(\"SHOW TABLES\")\n",
    "\n",
    "tables = cursor.fetchall() ## it returns list of tables present in the database\n",
    "\n",
    "## showing all the tables one by one\n",
    "for table in tables:\n",
    "    print(table)"
   ]
  },
  {
   "cell_type": "code",
   "execution_count": null,
   "metadata": {},
   "outputs": [],
   "source": [
    "# load mysql data\n",
    "# import MySQLdb\n",
    "# import json\n",
    "\n",
    "# db = MySQLdb.connect(...)    \n",
    "# cursor = db.cursor() \n",
    "\n",
    "# dic = {'office': {'component_office': ['Word2010SP0', 'PowerPoint2010SP0']}}\n",
    "# sql = \"INSERT INTO ep_soft(ip_address, soft_data) VALUES (%s, %s)\"\n",
    "\n",
    "# cursor.execute(sql, (\"192.xxx.xx.xx\", json.dumps(dic)))\n",
    "# cursor.commit()"
   ]
  },
  {
   "cell_type": "code",
   "execution_count": null,
   "metadata": {},
   "outputs": [],
   "source": [
    "## defining the Query\n",
    "query = \"INSERT INTO restaurants (name, user_name) VALUES (%s, %s)\"\n",
    "## storing values in a variable\n",
    "values = [\n",
    "    (\"Peter\", \"peter\"),\n",
    "    (\"Amy\", \"amy\"),\n",
    "    (\"Michael\", \"michael\"),\n",
    "    (\"Hennah\", \"hennah\")\n",
    "]\n",
    "\n",
    "## executing the query with values\n",
    "cursor.executemany(query, values)\n",
    "\n",
    "## to make final output we have to run the 'commit()' method of the database object\n",
    "db.commit()"
   ]
  }
 ],
 "metadata": {
  "kernelspec": {
   "display_name": "Python 3",
   "language": "python",
   "name": "python3"
  },
  "language_info": {
   "codemirror_mode": {
    "name": "ipython",
    "version": 3
   },
   "file_extension": ".py",
   "mimetype": "text/x-python",
   "name": "python",
   "nbconvert_exporter": "python",
   "pygments_lexer": "ipython3",
   "version": "3.6.7"
  }
 },
 "nbformat": 4,
 "nbformat_minor": 2
}
