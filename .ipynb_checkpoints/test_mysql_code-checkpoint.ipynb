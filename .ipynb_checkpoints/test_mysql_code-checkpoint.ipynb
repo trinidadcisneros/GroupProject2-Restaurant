{
 "cells": [
  {
   "cell_type": "code",
   "execution_count": 1,
   "metadata": {},
   "outputs": [
    {
     "name": "stdout",
     "output_type": "stream",
     "text": [
      "<mysql.connector.connection.MySQLConnection object at 0x10c97f668>\n"
     ]
    }
   ],
   "source": [
    "## Connecting to the database\n",
    "import mysql.connector as mysql\n",
    "%store -r cleaned_dict\n",
    "\n",
    "## importing 'mysql.connector' as mysql for convenient\n",
    "\n",
    "## connecting to the database using 'connect()' method\n",
    "## it takes 3 required parameters 'host', 'user', 'passwd'\n",
    "db = mysql.connect(\n",
    "    host = \"127.0.0.1\",\n",
    "    user = \"root\",\n",
    "    passwd = \"root\"\n",
    ")\n",
    "\n",
    "\n",
    "print(db) # it will print a connection object if everything is fine"
   ]
  },
  {
   "cell_type": "code",
   "execution_count": 2,
   "metadata": {},
   "outputs": [
    {
     "name": "stdout",
     "output_type": "stream",
     "text": [
      "None\n",
      "[('information_schema',), ('190314-Examples',), ('RestaurantData',), ('SharkSearch',), ('bigfoot',), ('customer_db',), ('icecream_db',), ('mysql',), ('performance_schema',), ('sys',), ('tech_occupational_db',)]\n",
      "[('id', 'int(11)', 'NO', 'PRI', None, 'auto_increment'), ('name', 'varchar(255)', 'YES', '', None, ''), ('lat', 'decimal(6,2)', 'YES', '', None, ''), ('lng', 'decimal(6,2)', 'YES', '', None, ''), ('cuisine', 'varchar(50)', 'YES', '', None, ''), ('ave_cost', 'decimal(6,2)', 'YES', '', None, ''), ('rating', 'decimal(6,2)', 'YES', '', None, ''), ('vote', 'decimal(6,2)', 'YES', '', None, ''), ('price_range', 'int(2)', 'YES', '', None, ''), ('featured_image', 'varchar(255)', 'YES', '', None, ''), ('menu', 'varchar(255)', 'YES', '', None, '')]\n"
     ]
    }
   ],
   "source": [
    "## creating an instance of 'cursor' class which is used to execute the 'SQL' statements in 'Python'\n",
    "cursor = db.cursor()\n",
    "\n",
    "## creating a databse called 'datacamp'\n",
    "## 'execute()' method is used to compile a 'SQL' statement\n",
    "## below statement is used to create tha 'datacamp' database\n",
    "cursor.execute(\"CREATE DATABASE IF NOT EXISTS RestaurantData\")\n",
    "cursor.execute(\"USE RestaurantData\")\n",
    "print(cursor.execute(\"SHOW DATABASES\"))\n",
    "databases = cursor.fetchall()\n",
    "print(databases)\n",
    "\n",
    "cursor.execute(\"DROP TABLE restaurants\")\n",
    "cursor.execute(\"CREATE TABLE IF NOT EXISTS restaurants (id INT(11) NOT NULL AUTO_INCREMENT PRIMARY KEY, name VARCHAR(255), lat DECIMAL(6,2), lng DECIMAL(6,2), cuisine VARCHAR(50), ave_cost DECIMAL(6,2), rating DECIMAL(6,2), vote DECIMAL(6,2), price_range INT(2), featured_image VARCHAR(255), menu VARCHAR(255))\")\n",
    "\n",
    "cursor.execute(\"DESC restaurants\")\n",
    "print(cursor.fetchall())\n"
   ]
  },
  {
   "cell_type": "code",
   "execution_count": 3,
   "metadata": {},
   "outputs": [
    {
     "name": "stdout",
     "output_type": "stream",
     "text": [
      "('restaurants',)\n"
     ]
    }
   ],
   "source": [
    "## getting all the tables which are present in 'datacamp' database\n",
    "cursor.execute(\"SHOW TABLES\")\n",
    "\n",
    "tables = cursor.fetchall() ## it returns list of tables present in the database\n",
    "\n",
    "## showing all the tables one by one\n",
    "for table in tables:\n",
    "    print(table)"
   ]
  },
  {
   "cell_type": "code",
   "execution_count": 4,
   "metadata": {},
   "outputs": [],
   "source": [
    "# load mysql data\n",
    "# import MySQLdb\n",
    "# import json\n",
    "\n",
    "# db = MySQLdb.connect(...)    \n",
    "# cursor = db.cursor() \n",
    "\n",
    "# dic = {'office': {'component_office': ['Word2010SP0', 'PowerPoint2010SP0']}}\n",
    "# sql = \"INSERT INTO ep_soft(ip_address, soft_data) VALUES (%s, %s)\"\n",
    "\n",
    "# cursor.execute(sql, (\"192.xxx.xx.xx\", json.dumps(dic)))\n",
    "# cursor.commit()"
   ]
  },
  {
   "cell_type": "markdown",
   "metadata": {},
   "source": [
    "CREATE TABLE IF NOT EXISTS restaurants (\n",
    "    id INT(11) NOT NULL AUTO_INCREMENT PRIMARY KEY,\n",
    "    name VARCHAR(255),\n",
    "    lat DECIMAL(6,3),\n",
    "    lng DECIMAL(6,3),\n",
    "    cuisine VARCHAR(255),\n",
    "    ave_cost INT(2),\n",
    "    rating DECIMAL(4,2)\n",
    "    vote INT(5),\n",
    "    price_range INT(2),\n",
    "    featured_image VARCHAR(255),\n",
    "    menu VARCHAR(255)\n",
    ");"
   ]
  },
  {
   "cell_type": "code",
   "execution_count": 5,
   "metadata": {},
   "outputs": [
    {
     "data": {
      "text/plain": [
       "{'name': 'Philippe, The Original',\n",
       " 'ave_cost': 20,\n",
       " 'cuisines': 'American, Sandwich',\n",
       " 'price_range': 2,\n",
       " 'featured_image': 'https://b.zmtcdn.com/data/res_imagery/16819715_RESTAURANT_d8c5a8adc5406e3a159186b82b1b3d56_c.jpg',\n",
       " 'menu': 'https://www.zomato.com/los-angeles/philippe-the-original-chinatown/menu?utm_source=api_basic_user&utm_medium=api&utm_campaign=v2.1&openSwipeBox=menu&showMinimal=1#tabtop',\n",
       " 'lat': '34.0597210000',\n",
       " 'lng': '-118.2370250000',\n",
       " 'rating': '4.9',\n",
       " 'vote': '677'}"
      ]
     },
     "execution_count": 5,
     "metadata": {},
     "output_type": "execute_result"
    }
   ],
   "source": [
    "cleaned_dict[0]\n",
    "\n",
    "# for entry in data['execution']:\n",
    "#     cmd = entry['test_case']['scriptname']"
   ]
  },
  {
   "cell_type": "code",
   "execution_count": 6,
   "metadata": {},
   "outputs": [],
   "source": [
    "values = []\n",
    "\n",
    "def listify(v):\n",
    "    return v[\"name\"], v[\"lat\"] ,v[\"lng\"],v[\"cuisines\"],v[\"ave_cost\"],v[\"rating\"],v[\"vote\"],v[\"price_range\"],v[\"featured_image\"],v[\"menu\"]\n",
    "\n",
    "# for v in cleaned_dict:\n",
    "#     entry_tuple = v[\"name\"]\n",
    "#     values.append(entry_tuple)\n",
    "\n",
    "for v in cleaned_dict:\n",
    "    entry_tuple = listify(v)\n",
    "    values.append(entry_tuple)"
   ]
  },
  {
   "cell_type": "code",
   "execution_count": 7,
   "metadata": {},
   "outputs": [
    {
     "data": {
      "text/plain": [
       "[('Philippe, The Original',\n",
       "  '34.0597210000',\n",
       "  '-118.2370250000',\n",
       "  'American, Sandwich',\n",
       "  20,\n",
       "  '4.9',\n",
       "  '677',\n",
       "  2,\n",
       "  'https://b.zmtcdn.com/data/res_imagery/16819715_RESTAURANT_d8c5a8adc5406e3a159186b82b1b3d56_c.jpg',\n",
       "  'https://www.zomato.com/los-angeles/philippe-the-original-chinatown/menu?utm_source=api_basic_user&utm_medium=api&utm_campaign=v2.1&openSwipeBox=menu&showMinimal=1#tabtop'),\n",
       " ('Bottega Louie',\n",
       "  '34.0469319000',\n",
       "  '-118.2566807000',\n",
       "  'Italian',\n",
       "  40,\n",
       "  '4.9',\n",
       "  '752',\n",
       "  3,\n",
       "  'https://b.zmtcdn.com/data/res_imagery/16831684_RESTAURANT_b36e38b5d5021de7be403c7e713777a1_c.jpg',\n",
       "  'https://www.zomato.com/los-angeles/bottega-louie-downtown/menu?utm_source=api_basic_user&utm_medium=api&utm_campaign=v2.1&openSwipeBox=menu&showMinimal=1#tabtop'),\n",
       " ('Pizzeria Mozza',\n",
       "  '34.0822700000',\n",
       "  '-118.3385800000',\n",
       "  'Italian, Pizza',\n",
       "  40,\n",
       "  '4.8',\n",
       "  '597',\n",
       "  3,\n",
       "  '',\n",
       "  'https://www.zomato.com/los-angeles/pizzeria-mozza-melrose/menu?utm_source=api_basic_user&utm_medium=api&utm_campaign=v2.1&openSwipeBox=menu&showMinimal=1#tabtop'),\n",
       " ('The Griddle Cafe',\n",
       "  '34.0977993000',\n",
       "  '-118.3622528000',\n",
       "  'American, Breakfast, Coffee and Tea',\n",
       "  25,\n",
       "  '4.8',\n",
       "  '497',\n",
       "  2,\n",
       "  'https://b.zmtcdn.com/data/res_imagery/16813268_RESTAURANT_a89c88ce962903fe4962c3c4f1728b04.jpg',\n",
       "  'https://www.zomato.com/los-angeles/the-griddle-cafe-hollywood/menu?utm_source=api_basic_user&utm_medium=api&utm_campaign=v2.1&openSwipeBox=menu&showMinimal=1#tabtop'),\n",
       " ('Diddy Riese Cookies',\n",
       "  '34.0633500000',\n",
       "  '-118.4469500000',\n",
       "  'Desserts',\n",
       "  10,\n",
       "  '4.9',\n",
       "  '476',\n",
       "  1,\n",
       "  '',\n",
       "  'https://www.zomato.com/los-angeles/diddy-riese-cookies-westwood/menu?utm_source=api_basic_user&utm_medium=api&utm_campaign=v2.1&openSwipeBox=menu&showMinimal=1#tabtop'),\n",
       " ('Wurstküche',\n",
       "  '34.0456400000',\n",
       "  '-118.2352800000',\n",
       "  'German',\n",
       "  10,\n",
       "  '4.9',\n",
       "  '539',\n",
       "  1,\n",
       "  'https://b.zmtcdn.com/data/res_imagery/16830386_RESTAURANT_4838a856aac0beef4e5bf7481716c83c_c.jpg',\n",
       "  'https://www.zomato.com/los-angeles/wurstküche-wholesale-district/menu?utm_source=api_basic_user&utm_medium=api&utm_campaign=v2.1&openSwipeBox=menu&showMinimal=1#tabtop'),\n",
       " ('Gjelina',\n",
       "  '33.9905070000',\n",
       "  '-118.4649280000',\n",
       "  'American',\n",
       "  25,\n",
       "  '4.7',\n",
       "  '470',\n",
       "  2,\n",
       "  'https://b.zmtcdn.com/data/res_imagery/16825829_RESTAURANT_51f7344eab23eec68db763890f20386e_c.jpg',\n",
       "  'https://www.zomato.com/los-angeles/gjelina-venice/menu?utm_source=api_basic_user&utm_medium=api&utm_campaign=v2.1&openSwipeBox=menu&showMinimal=1#tabtop'),\n",
       " (\"Roscoe's House of Chicken & Waffles\",\n",
       "  '34.0986575000',\n",
       "  '-118.3221660000',\n",
       "  'Southern',\n",
       "  10,\n",
       "  '4.8',\n",
       "  '501',\n",
       "  1,\n",
       "  'https://b.zmtcdn.com/data/res_imagery/16821118_RESTAURANT_8161f8e23d3856025c618525ab32b467.jpg',\n",
       "  'https://www.zomato.com/los-angeles/roscoes-house-of-chicken-waffles-hollywood/menu?utm_source=api_basic_user&utm_medium=api&utm_campaign=v2.1&openSwipeBox=menu&showMinimal=1#tabtop'),\n",
       " ('The Bazaar by Jose Andres',\n",
       "  '34.0796000000',\n",
       "  '-118.3766400000',\n",
       "  'Spanish, Tapas',\n",
       "  70,\n",
       "  '4.5',\n",
       "  '346',\n",
       "  4,\n",
       "  '',\n",
       "  'https://www.zomato.com/los-angeles/the-bazaar-by-jose-andres-1-carthay/menu?utm_source=api_basic_user&utm_medium=api&utm_campaign=v2.1&openSwipeBox=menu&showMinimal=1#tabtop'),\n",
       " ('Animal',\n",
       "  '34.0792171000',\n",
       "  '-118.3616044000',\n",
       "  'American',\n",
       "  40,\n",
       "  '4.6',\n",
       "  '301',\n",
       "  3,\n",
       "  '',\n",
       "  'https://www.zomato.com/los-angeles/animal-melrose/menu?utm_source=api_basic_user&utm_medium=api&utm_campaign=v2.1&openSwipeBox=menu&showMinimal=1#tabtop'),\n",
       " ('Bossa Nova Brazilian Cuisine',\n",
       "  '34.0982102000',\n",
       "  '-118.3466258000',\n",
       "  'Brazilian, Latin American, Pizza',\n",
       "  25,\n",
       "  '4.7',\n",
       "  '368',\n",
       "  2,\n",
       "  '',\n",
       "  'https://www.zomato.com/los-angeles/bossa-nova-brazilian-cuisine-hollywood/menu?utm_source=api_basic_user&utm_medium=api&utm_campaign=v2.1&openSwipeBox=menu&showMinimal=1#tabtop'),\n",
       " ('Osteria Mozza',\n",
       "  '34.0831900000',\n",
       "  '-118.3395100000',\n",
       "  'Italian',\n",
       "  70,\n",
       "  '4.6',\n",
       "  '378',\n",
       "  4,\n",
       "  '',\n",
       "  'https://www.zomato.com/los-angeles/osteria-mozza-melrose/menu?utm_source=api_basic_user&utm_medium=api&utm_campaign=v2.1&openSwipeBox=menu&showMinimal=1#tabtop'),\n",
       " ('The Ivy',\n",
       "  '34.0765100000',\n",
       "  '-118.3838000000',\n",
       "  'American, California',\n",
       "  70,\n",
       "  '4.3',\n",
       "  '221',\n",
       "  4,\n",
       "  'https://b.zmtcdn.com/data/res_imagery/16814344_RESTAURANT_af2eecb850c9662c8d133ac62ca9de0b.jpg',\n",
       "  'https://www.zomato.com/los-angeles/the-ivy-carthay/menu?utm_source=api_basic_user&utm_medium=api&utm_campaign=v2.1&openSwipeBox=menu&showMinimal=1#tabtop'),\n",
       " ('Canters',\n",
       "  '34.0785900000',\n",
       "  '-118.3615300000',\n",
       "  'American, Deli',\n",
       "  25,\n",
       "  '4.3',\n",
       "  '258',\n",
       "  2,\n",
       "  '',\n",
       "  'https://www.zomato.com/los-angeles/canters-melrose/menu?utm_source=api_basic_user&utm_medium=api&utm_campaign=v2.1&openSwipeBox=menu&showMinimal=1#tabtop'),\n",
       " (\"Father's Office\",\n",
       "  '34.0304053000',\n",
       "  '-118.3848103000',\n",
       "  'American, Burger',\n",
       "  25,\n",
       "  '4.5',\n",
       "  '365',\n",
       "  2,\n",
       "  'https://b.zmtcdn.com/data/res_imagery/16825707_RESTAURANT_824350d3acd5b1edf7fd8758526c613a_c.jpg',\n",
       "  'https://www.zomato.com/los-angeles/fathers-office-regent-square/menu?utm_source=api_basic_user&utm_medium=api&utm_campaign=v2.1&openSwipeBox=menu&showMinimal=1#tabtop'),\n",
       " ('Providence',\n",
       "  '34.0836552000',\n",
       "  '-118.3302427000',\n",
       "  'French, Seafood',\n",
       "  70,\n",
       "  '4.4',\n",
       "  '213',\n",
       "  4,\n",
       "  '',\n",
       "  'https://www.zomato.com/los-angeles/providence-melrose/menu?utm_source=api_basic_user&utm_medium=api&utm_campaign=v2.1&openSwipeBox=menu&showMinimal=1#tabtop'),\n",
       " ('In-N-Out Burger',\n",
       "  '34.0981919000',\n",
       "  '-118.3416924000',\n",
       "  'American, Burger, Fast Food',\n",
       "  15,\n",
       "  '4.7',\n",
       "  '282',\n",
       "  1,\n",
       "  '',\n",
       "  'https://www.zomato.com/los-angeles/in-n-out-burger-hollywood/menu?utm_source=api_basic_user&utm_medium=api&utm_campaign=v2.1&openSwipeBox=menu&showMinimal=1#tabtop'),\n",
       " ('Alcove Cafe & Bakery',\n",
       "  '34.1063127000',\n",
       "  '-118.2877515000',\n",
       "  'American, Coffee and Tea',\n",
       "  25,\n",
       "  '4.7',\n",
       "  '293',\n",
       "  2,\n",
       "  '',\n",
       "  'https://www.zomato.com/los-angeles/alcove-cafe-bakery-los-feliz/menu?utm_source=api_basic_user&utm_medium=api&utm_campaign=v2.1&openSwipeBox=menu&showMinimal=1#tabtop'),\n",
       " ('The Apple Pan',\n",
       "  '34.0407174000',\n",
       "  '-118.4277921000',\n",
       "  'Burger, Desserts',\n",
       "  20,\n",
       "  '4.6',\n",
       "  '362',\n",
       "  2,\n",
       "  '',\n",
       "  'https://www.zomato.com/los-angeles/the-apple-pan-rancho-park/menu?utm_source=api_basic_user&utm_medium=api&utm_campaign=v2.1&openSwipeBox=menu&showMinimal=1#tabtop'),\n",
       " ('Daikokuya',\n",
       "  '34.0500021000',\n",
       "  '-118.2400679000',\n",
       "  'Japanese',\n",
       "  10,\n",
       "  '4.8',\n",
       "  '331',\n",
       "  1,\n",
       "  '',\n",
       "  'https://www.zomato.com/los-angeles/daikokuya-little-tokyo/menu?utm_source=api_basic_user&utm_medium=api&utm_campaign=v2.1&openSwipeBox=menu&showMinimal=1#tabtop')]"
      ]
     },
     "execution_count": 7,
     "metadata": {},
     "output_type": "execute_result"
    }
   ],
   "source": [
    "values"
   ]
  },
  {
   "cell_type": "code",
   "execution_count": 8,
   "metadata": {},
   "outputs": [],
   "source": [
    "## defining the Query\n",
    "query = \"INSERT INTO restaurants (name, lat, lng, cuisine, ave_cost, rating, vote, price_range, featured_image, menu) VALUES (%s, %s, %s, %s, %s, %s, %s, %s, %s, %s)\"\n",
    "\n",
    "## storing values in a variable\n",
    "values = values\n",
    "\n",
    "## executing the query with values\n",
    "cursor.executemany(query, values)\n",
    "\n",
    "## to make final output we have to run the 'commit()' method of the database object\n",
    "db.commit()"
   ]
  },
  {
   "cell_type": "code",
   "execution_count": 9,
   "metadata": {},
   "outputs": [
    {
     "name": "stdout",
     "output_type": "stream",
     "text": [
      "20 records inserted\n"
     ]
    }
   ],
   "source": [
    "print(cursor.rowcount, \"records inserted\")"
   ]
  },
  {
   "cell_type": "code",
   "execution_count": null,
   "metadata": {},
   "outputs": [],
   "source": [
    "# Confirm data"
   ]
  },
  {
   "cell_type": "code",
   "execution_count": 10,
   "metadata": {},
   "outputs": [
    {
     "name": "stdout",
     "output_type": "stream",
     "text": [
      "(1, 'Philippe, The Original', Decimal('34.06'), Decimal('-118.24'), 'American, Sandwich', Decimal('20.00'), Decimal('4.90'), Decimal('677.00'), 2, 'https://b.zmtcdn.com/data/res_imagery/16819715_RESTAURANT_d8c5a8adc5406e3a159186b82b1b3d56_c.jpg', 'https://www.zomato.com/los-angeles/philippe-the-original-chinatown/menu?utm_source=api_basic_user&utm_medium=api&utm_campaign=v2.1&openSwipeBox=menu&showMinimal=1#tabtop')\n",
      "(2, 'Bottega Louie', Decimal('34.05'), Decimal('-118.26'), 'Italian', Decimal('40.00'), Decimal('4.90'), Decimal('752.00'), 3, 'https://b.zmtcdn.com/data/res_imagery/16831684_RESTAURANT_b36e38b5d5021de7be403c7e713777a1_c.jpg', 'https://www.zomato.com/los-angeles/bottega-louie-downtown/menu?utm_source=api_basic_user&utm_medium=api&utm_campaign=v2.1&openSwipeBox=menu&showMinimal=1#tabtop')\n",
      "(3, 'Pizzeria Mozza', Decimal('34.08'), Decimal('-118.34'), 'Italian, Pizza', Decimal('40.00'), Decimal('4.80'), Decimal('597.00'), 3, '', 'https://www.zomato.com/los-angeles/pizzeria-mozza-melrose/menu?utm_source=api_basic_user&utm_medium=api&utm_campaign=v2.1&openSwipeBox=menu&showMinimal=1#tabtop')\n",
      "(4, 'The Griddle Cafe', Decimal('34.10'), Decimal('-118.36'), 'American, Breakfast, Coffee and Tea', Decimal('25.00'), Decimal('4.80'), Decimal('497.00'), 2, 'https://b.zmtcdn.com/data/res_imagery/16813268_RESTAURANT_a89c88ce962903fe4962c3c4f1728b04.jpg', 'https://www.zomato.com/los-angeles/the-griddle-cafe-hollywood/menu?utm_source=api_basic_user&utm_medium=api&utm_campaign=v2.1&openSwipeBox=menu&showMinimal=1#tabtop')\n",
      "(5, 'Diddy Riese Cookies', Decimal('34.06'), Decimal('-118.45'), 'Desserts', Decimal('10.00'), Decimal('4.90'), Decimal('476.00'), 1, '', 'https://www.zomato.com/los-angeles/diddy-riese-cookies-westwood/menu?utm_source=api_basic_user&utm_medium=api&utm_campaign=v2.1&openSwipeBox=menu&showMinimal=1#tabtop')\n",
      "(6, 'Wurstküche', Decimal('34.05'), Decimal('-118.24'), 'German', Decimal('10.00'), Decimal('4.90'), Decimal('539.00'), 1, 'https://b.zmtcdn.com/data/res_imagery/16830386_RESTAURANT_4838a856aac0beef4e5bf7481716c83c_c.jpg', 'https://www.zomato.com/los-angeles/wurstküche-wholesale-district/menu?utm_source=api_basic_user&utm_medium=api&utm_campaign=v2.1&openSwipeBox=menu&showMinimal=1#tabtop')\n",
      "(7, 'Gjelina', Decimal('33.99'), Decimal('-118.46'), 'American', Decimal('25.00'), Decimal('4.70'), Decimal('470.00'), 2, 'https://b.zmtcdn.com/data/res_imagery/16825829_RESTAURANT_51f7344eab23eec68db763890f20386e_c.jpg', 'https://www.zomato.com/los-angeles/gjelina-venice/menu?utm_source=api_basic_user&utm_medium=api&utm_campaign=v2.1&openSwipeBox=menu&showMinimal=1#tabtop')\n",
      "(8, \"Roscoe's House of Chicken & Waffles\", Decimal('34.10'), Decimal('-118.32'), 'Southern', Decimal('10.00'), Decimal('4.80'), Decimal('501.00'), 1, 'https://b.zmtcdn.com/data/res_imagery/16821118_RESTAURANT_8161f8e23d3856025c618525ab32b467.jpg', 'https://www.zomato.com/los-angeles/roscoes-house-of-chicken-waffles-hollywood/menu?utm_source=api_basic_user&utm_medium=api&utm_campaign=v2.1&openSwipeBox=menu&showMinimal=1#tabtop')\n",
      "(9, 'The Bazaar by Jose Andres', Decimal('34.08'), Decimal('-118.38'), 'Spanish, Tapas', Decimal('70.00'), Decimal('4.50'), Decimal('346.00'), 4, '', 'https://www.zomato.com/los-angeles/the-bazaar-by-jose-andres-1-carthay/menu?utm_source=api_basic_user&utm_medium=api&utm_campaign=v2.1&openSwipeBox=menu&showMinimal=1#tabtop')\n",
      "(10, 'Animal', Decimal('34.08'), Decimal('-118.36'), 'American', Decimal('40.00'), Decimal('4.60'), Decimal('301.00'), 3, '', 'https://www.zomato.com/los-angeles/animal-melrose/menu?utm_source=api_basic_user&utm_medium=api&utm_campaign=v2.1&openSwipeBox=menu&showMinimal=1#tabtop')\n",
      "(11, 'Bossa Nova Brazilian Cuisine', Decimal('34.10'), Decimal('-118.35'), 'Brazilian, Latin American, Pizza', Decimal('25.00'), Decimal('4.70'), Decimal('368.00'), 2, '', 'https://www.zomato.com/los-angeles/bossa-nova-brazilian-cuisine-hollywood/menu?utm_source=api_basic_user&utm_medium=api&utm_campaign=v2.1&openSwipeBox=menu&showMinimal=1#tabtop')\n",
      "(12, 'Osteria Mozza', Decimal('34.08'), Decimal('-118.34'), 'Italian', Decimal('70.00'), Decimal('4.60'), Decimal('378.00'), 4, '', 'https://www.zomato.com/los-angeles/osteria-mozza-melrose/menu?utm_source=api_basic_user&utm_medium=api&utm_campaign=v2.1&openSwipeBox=menu&showMinimal=1#tabtop')\n",
      "(13, 'The Ivy', Decimal('34.08'), Decimal('-118.38'), 'American, California', Decimal('70.00'), Decimal('4.30'), Decimal('221.00'), 4, 'https://b.zmtcdn.com/data/res_imagery/16814344_RESTAURANT_af2eecb850c9662c8d133ac62ca9de0b.jpg', 'https://www.zomato.com/los-angeles/the-ivy-carthay/menu?utm_source=api_basic_user&utm_medium=api&utm_campaign=v2.1&openSwipeBox=menu&showMinimal=1#tabtop')\n",
      "(14, 'Canters', Decimal('34.08'), Decimal('-118.36'), 'American, Deli', Decimal('25.00'), Decimal('4.30'), Decimal('258.00'), 2, '', 'https://www.zomato.com/los-angeles/canters-melrose/menu?utm_source=api_basic_user&utm_medium=api&utm_campaign=v2.1&openSwipeBox=menu&showMinimal=1#tabtop')\n",
      "(15, \"Father's Office\", Decimal('34.03'), Decimal('-118.38'), 'American, Burger', Decimal('25.00'), Decimal('4.50'), Decimal('365.00'), 2, 'https://b.zmtcdn.com/data/res_imagery/16825707_RESTAURANT_824350d3acd5b1edf7fd8758526c613a_c.jpg', 'https://www.zomato.com/los-angeles/fathers-office-regent-square/menu?utm_source=api_basic_user&utm_medium=api&utm_campaign=v2.1&openSwipeBox=menu&showMinimal=1#tabtop')\n",
      "(16, 'Providence', Decimal('34.08'), Decimal('-118.33'), 'French, Seafood', Decimal('70.00'), Decimal('4.40'), Decimal('213.00'), 4, '', 'https://www.zomato.com/los-angeles/providence-melrose/menu?utm_source=api_basic_user&utm_medium=api&utm_campaign=v2.1&openSwipeBox=menu&showMinimal=1#tabtop')\n",
      "(17, 'In-N-Out Burger', Decimal('34.10'), Decimal('-118.34'), 'American, Burger, Fast Food', Decimal('15.00'), Decimal('4.70'), Decimal('282.00'), 1, '', 'https://www.zomato.com/los-angeles/in-n-out-burger-hollywood/menu?utm_source=api_basic_user&utm_medium=api&utm_campaign=v2.1&openSwipeBox=menu&showMinimal=1#tabtop')\n",
      "(18, 'Alcove Cafe & Bakery', Decimal('34.11'), Decimal('-118.29'), 'American, Coffee and Tea', Decimal('25.00'), Decimal('4.70'), Decimal('293.00'), 2, '', 'https://www.zomato.com/los-angeles/alcove-cafe-bakery-los-feliz/menu?utm_source=api_basic_user&utm_medium=api&utm_campaign=v2.1&openSwipeBox=menu&showMinimal=1#tabtop')\n",
      "(19, 'The Apple Pan', Decimal('34.04'), Decimal('-118.43'), 'Burger, Desserts', Decimal('20.00'), Decimal('4.60'), Decimal('362.00'), 2, '', 'https://www.zomato.com/los-angeles/the-apple-pan-rancho-park/menu?utm_source=api_basic_user&utm_medium=api&utm_campaign=v2.1&openSwipeBox=menu&showMinimal=1#tabtop')\n",
      "(20, 'Daikokuya', Decimal('34.05'), Decimal('-118.24'), 'Japanese', Decimal('10.00'), Decimal('4.80'), Decimal('331.00'), 1, '', 'https://www.zomato.com/los-angeles/daikokuya-little-tokyo/menu?utm_source=api_basic_user&utm_medium=api&utm_campaign=v2.1&openSwipeBox=menu&showMinimal=1#tabtop')\n"
     ]
    }
   ],
   "source": [
    "## defining the Query\n",
    "query = \"SELECT * FROM restaurants\"\n",
    "\n",
    "## getting records from the table\n",
    "cursor.execute(query)\n",
    "\n",
    "## fetching all records from the 'cursor' object\n",
    "records = cursor.fetchall()\n",
    "\n",
    "## Showing the data\n",
    "for record in records:\n",
    "    print(record)"
   ]
  },
  {
   "cell_type": "code",
   "execution_count": null,
   "metadata": {},
   "outputs": [],
   "source": []
  }
 ],
 "metadata": {
  "kernelspec": {
   "display_name": "Python 3",
   "language": "python",
   "name": "python3"
  },
  "language_info": {
   "codemirror_mode": {
    "name": "ipython",
    "version": 3
   },
   "file_extension": ".py",
   "mimetype": "text/x-python",
   "name": "python",
   "nbconvert_exporter": "python",
   "pygments_lexer": "ipython3",
   "version": "3.6.7"
  }
 },
 "nbformat": 4,
 "nbformat_minor": 2
}
