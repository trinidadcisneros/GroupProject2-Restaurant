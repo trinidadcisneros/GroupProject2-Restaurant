{
 "cells": [
  {
   "cell_type": "code",
   "execution_count": null,
   "metadata": {},
   "outputs": [],
   "source": [
    "# Import dependencies\n",
    "import requests\n",
    "import json\n",
    "from pprint import pprint"
   ]
  },
  {
   "cell_type": "code",
   "execution_count": null,
   "metadata": {},
   "outputs": [],
   "source": [
    "# URL to get request\n",
    "url = \"https://developers.zomato.com/api/v2.1/search?entity_id=281&entity_type=city&start=1&count=100\"\n",
    "headers = {'user-key': \"56f8a64be7b09ee8c81a59edfd692b34\", \"accept\": \"application/json\"}"
   ]
  },
  {
   "cell_type": "code",
   "execution_count": null,
   "metadata": {},
   "outputs": [],
   "source": [
    "# Jupyter Only, test connection\n",
    "# Print the response object to the console\n",
    "print(requests.get(url, headers=headers))"
   ]
  },
  {
   "cell_type": "code",
   "execution_count": null,
   "metadata": {},
   "outputs": [],
   "source": [
    "# Pretty print\n",
    "response = requests.get(url, headers=headers).json()"
   ]
  },
  {
   "cell_type": "code",
   "execution_count": null,
   "metadata": {},
   "outputs": [],
   "source": [
    "with open('restaurant.json', 'w') as json_file:  \n",
    "    json.dump(response, json_file)"
   ]
  },
  {
   "cell_type": "code",
   "execution_count": null,
   "metadata": {},
   "outputs": [],
   "source": [
    "# loop through the json file and extract the data we need create a dictionary object\n",
    "name = response[\"re staurants\"][0][\"restaurant\"][\"name\"]\n",
    "ave_cost = response[\"restaurants\"][0][\"restaurant\"][\"average_cost_for_two\"]\n",
    "cuisines = response[\"restaurants\"][0][\"restaurant\"][\"cuisines\"]\n",
    "price_range = response[\"restaurants\"][0][\"restaurant\"][\"price_range\"]\n",
    "featured_image = response[\"restaurants\"][0][\"restaurant\"][\"featured_image\"]\n",
    "menu = response[\"restaurants\"][0][\"restaurant\"][\"menu_url\"]\n",
    "lat = response[\"restaurants\"][0][\"restaurant\"][\"location\"][\"latitude\"]\n",
    "long= response[\"restaurants\"][0][\"restaurant\"][\"location\"][\"longitude\"]\n",
    "rating = response[\"restaurants\"][0][\"restaurant\"][\"user_rating\"][\"aggregate_rating\"]\n",
    "vote = response[\"restaurants\"][0][\"restaurant\"][\"user_rating\"][\"votes\"]"
   ]
  }
 ],
 "metadata": {
  "kernelspec": {
   "display_name": "Python 3",
   "language": "python",
   "name": "python3"
  },
  "language_info": {
   "codemirror_mode": {
    "name": "ipython",
    "version": 3
   },
   "file_extension": ".py",
   "mimetype": "text/x-python",
   "name": "python",
   "nbconvert_exporter": "python",
   "pygments_lexer": "ipython3",
   "version": "3.6.7"
  }
 },
 "nbformat": 4,
 "nbformat_minor": 2
}
